{
 "cells": [
  {
   "cell_type": "code",
   "execution_count": 25,
   "metadata": {},
   "outputs": [
    {
     "name": "stdout",
     "output_type": "stream",
     "text": [
      "(348, 12)\n",
      "   year  month  day  week  temp_2  temp_1  average  actual  forecast_noaa  \\\n",
      "0  2016      1    1   Fri      45      45     45.6      45             43   \n",
      "1  2016      1    2   Sat      44      45     45.7      44             41   \n",
      "2  2016      1    3   Sun      45      44     45.8      41             43   \n",
      "3  2016      1    4   Mon      44      41     45.9      40             44   \n",
      "4  2016      1    5  Tues      41      40     46.0      44             46   \n",
      "\n",
      "   forecast_acc  forecast_under  friend  \n",
      "0            50              44      29  \n",
      "1            50              44      61  \n",
      "2            46              47      56  \n",
      "3            48              46      53  \n",
      "4            46              46      41  \n"
     ]
    }
   ],
   "source": [
    "import pandas as pd\n",
    "import numpy as np\n",
    "df=pd.read_csv(\"temps.csv\")\n",
    "print(df.shape)\n",
    "print(df.head(5))"
   ]
  },
  {
   "cell_type": "code",
   "execution_count": 26,
   "metadata": {},
   "outputs": [],
   "source": [
    "df.drop(['forecast_noaa','forecast_acc','forecast_under'],axis=1,inplace=True)"
   ]
  },
  {
   "cell_type": "code",
   "execution_count": 27,
   "metadata": {},
   "outputs": [
    {
     "name": "stdout",
     "output_type": "stream",
     "text": [
      "(348, 9)\n",
      "   year  month  day  week  temp_2  temp_1  average  actual  friend\n",
      "0  2016      1    1   Fri      45      45     45.6      45      29\n",
      "1  2016      1    2   Sat      44      45     45.7      44      61\n",
      "2  2016      1    3   Sun      45      44     45.8      41      56\n",
      "3  2016      1    4   Mon      44      41     45.9      40      53\n",
      "4  2016      1    5  Tues      41      40     46.0      44      41\n"
     ]
    }
   ],
   "source": [
    "print(df.shape)\n",
    "print(df.head(5))"
   ]
  },
  {
   "cell_type": "code",
   "execution_count": 28,
   "metadata": {},
   "outputs": [
    {
     "name": "stdout",
     "output_type": "stream",
     "text": [
      "year       0\n",
      "month      0\n",
      "day        0\n",
      "week       0\n",
      "temp_2     0\n",
      "temp_1     0\n",
      "average    0\n",
      "actual     0\n",
      "friend     0\n",
      "dtype: int64\n"
     ]
    }
   ],
   "source": [
    "print(df.isnull().sum())"
   ]
  },
  {
   "cell_type": "code",
   "execution_count": 29,
   "metadata": {},
   "outputs": [
    {
     "name": "stdout",
     "output_type": "stream",
     "text": [
      "   Fri  Mon  Sat  Sun  Thurs  Tues  Wed\n",
      "0    1    0    0    0      0     0    0\n",
      "1    0    0    1    0      0     0    0\n",
      "2    0    0    0    1      0     0    0\n",
      "3    0    1    0    0      0     0    0\n",
      "4    0    0    0    0      0     1    0\n"
     ]
    }
   ],
   "source": [
    "week=pd.get_dummies(df['week'])\n",
    "print(week.head(5))"
   ]
  },
  {
   "cell_type": "code",
   "execution_count": 30,
   "metadata": {},
   "outputs": [],
   "source": [
    "df.drop('week',axis=1,inplace=True)"
   ]
  },
  {
   "cell_type": "code",
   "execution_count": 31,
   "metadata": {},
   "outputs": [],
   "source": [
    "df=pd.concat([df,week],axis=1)"
   ]
  },
  {
   "cell_type": "code",
   "execution_count": 32,
   "metadata": {},
   "outputs": [
    {
     "name": "stdout",
     "output_type": "stream",
     "text": [
      "   year  month  day  temp_2  temp_1  average  actual  friend  Fri  Mon  Sat  \\\n",
      "0  2016      1    1      45      45     45.6      45      29    1    0    0   \n",
      "1  2016      1    2      44      45     45.7      44      61    0    0    1   \n",
      "2  2016      1    3      45      44     45.8      41      56    0    0    0   \n",
      "3  2016      1    4      44      41     45.9      40      53    0    1    0   \n",
      "4  2016      1    5      41      40     46.0      44      41    0    0    0   \n",
      "\n",
      "   Sun  Thurs  Tues  Wed  \n",
      "0    0      0     0    0  \n",
      "1    0      0     0    0  \n",
      "2    1      0     0    0  \n",
      "3    0      0     0    0  \n",
      "4    0      0     1    0  \n"
     ]
    }
   ],
   "source": [
    "print(df.head(5))"
   ]
  },
  {
   "cell_type": "code",
   "execution_count": 33,
   "metadata": {},
   "outputs": [],
   "source": [
    "x=df.drop('actual',axis=1)\n",
    "y=df['actual']\n"
   ]
  },
  {
   "cell_type": "code",
   "execution_count": 34,
   "metadata": {},
   "outputs": [],
   "source": [
    "from sklearn.model_selection import train_test_split\n",
    "x_train,x_test,y_train,y_test=train_test_split(x,y,test_size=0.25,random_state=42)"
   ]
  },
  {
   "cell_type": "code",
   "execution_count": 35,
   "metadata": {},
   "outputs": [
    {
     "data": {
      "text/plain": [
       "RandomForestRegressor(n_estimators=1000, random_state=42)"
      ]
     },
     "execution_count": 35,
     "metadata": {},
     "output_type": "execute_result"
    }
   ],
   "source": [
    "from sklearn.ensemble import RandomForestRegressor\n",
    "classifier=RandomForestRegressor(n_estimators = 1000, random_state = 42)\n",
    "classifier.fit(x_train,y_train)"
   ]
  },
  {
   "cell_type": "code",
   "execution_count": 38,
   "metadata": {},
   "outputs": [],
   "source": [
    "prediction=classifier.predict(x_test)"
   ]
  },
  {
   "cell_type": "code",
   "execution_count": 37,
   "metadata": {},
   "outputs": [
    {
     "data": {
      "text/plain": [
       "0.8173586859802092"
      ]
     },
     "execution_count": 37,
     "metadata": {},
     "output_type": "execute_result"
    }
   ],
   "source": [
    "classifier.score(x_test,y_test)"
   ]
  },
  {
   "cell_type": "code",
   "execution_count": null,
   "metadata": {},
   "outputs": [],
   "source": []
  }
 ],
 "metadata": {
  "kernelspec": {
   "display_name": "Python 3",
   "language": "python",
   "name": "python3"
  },
  "language_info": {
   "codemirror_mode": {
    "name": "ipython",
    "version": 3
   },
   "file_extension": ".py",
   "mimetype": "text/x-python",
   "name": "python",
   "nbconvert_exporter": "python",
   "pygments_lexer": "ipython3",
   "version": "3.8.3"
  }
 },
 "nbformat": 4,
 "nbformat_minor": 4
}
