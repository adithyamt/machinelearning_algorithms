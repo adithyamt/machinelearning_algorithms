{
 "cells": [
  {
   "cell_type": "code",
   "execution_count": 26,
   "metadata": {},
   "outputs": [
    {
     "name": "stdout",
     "output_type": "stream",
     "text": [
      "   Id  SepalLengthCm  SepalWidthCm  PetalLengthCm  PetalWidthCm      Species\n",
      "0   1            5.1           3.5            1.4           0.2  Iris-setosa\n",
      "1   2            4.9           3.0            1.4           0.2  Iris-setosa\n",
      "2   3            4.7           3.2            1.3           0.2  Iris-setosa\n",
      "3   4            4.6           3.1            1.5           0.2  Iris-setosa\n",
      "4   5            5.0           3.6            1.4           0.2  Iris-setosa\n"
     ]
    }
   ],
   "source": [
    "import pandas as pd\n",
    "import numpy as np\n",
    "import matplotlib.pyplot as plt\n",
    "df=pd.read_csv(\"Iris.csv\")\n",
    "print(df.head(5))"
   ]
  },
  {
   "cell_type": "code",
   "execution_count": 27,
   "metadata": {},
   "outputs": [
    {
     "name": "stdout",
     "output_type": "stream",
     "text": [
      "SepalLengthCm    0\n",
      "SepalWidthCm     0\n",
      "PetalLengthCm    0\n",
      "PetalWidthCm     0\n",
      "Species          0\n",
      "dtype: int64\n"
     ]
    }
   ],
   "source": [
    "df=df.drop(\"Id\",axis='columns')\n",
    "x=df.drop(\"Species\",axis='columns')\n",
    "y=df[\"Species\"]\n",
    "print(df.isnull().sum())"
   ]
  },
  {
   "cell_type": "code",
   "execution_count": 28,
   "metadata": {},
   "outputs": [
    {
     "name": "stdout",
     "output_type": "stream",
     "text": [
      "   Iris-setosa  Iris-versicolor  Iris-virginica\n",
      "0            1                0               0\n",
      "1            1                0               0\n",
      "2            1                0               0\n",
      "3            1                0               0\n",
      "4            1                0               0\n"
     ]
    }
   ],
   "source": [
    "species=pd.get_dummies(df[\"Species\"])\n",
    "print(species.head(5))"
   ]
  },
  {
   "cell_type": "code",
   "execution_count": 29,
   "metadata": {},
   "outputs": [],
   "source": [
    "\n"
   ]
  },
  {
   "cell_type": "code",
   "execution_count": 30,
   "metadata": {},
   "outputs": [
    {
     "name": "stdout",
     "output_type": "stream",
     "text": [
      "   SepalLengthCm  SepalWidthCm  PetalLengthCm  PetalWidthCm      Species  \\\n",
      "0            5.1           3.5            1.4           0.2  Iris-setosa   \n",
      "1            4.9           3.0            1.4           0.2  Iris-setosa   \n",
      "2            4.7           3.2            1.3           0.2  Iris-setosa   \n",
      "3            4.6           3.1            1.5           0.2  Iris-setosa   \n",
      "4            5.0           3.6            1.4           0.2  Iris-setosa   \n",
      "\n",
      "   Iris-setosa  Iris-versicolor  Iris-virginica  \n",
      "0            1                0               0  \n",
      "1            1                0               0  \n",
      "2            1                0               0  \n",
      "3            1                0               0  \n",
      "4            1                0               0  \n"
     ]
    }
   ],
   "source": [
    "df=pd.concat([df,species],axis=1)\n",
    "print(df.head(5))"
   ]
  },
  {
   "cell_type": "code",
   "execution_count": 31,
   "metadata": {},
   "outputs": [],
   "source": [
    "from sklearn.tree import DecisionTreeClassifier\n",
    "from sklearn import tree\n",
    "from sklearn.model_selection import train_test_split"
   ]
  },
  {
   "cell_type": "code",
   "execution_count": 32,
   "metadata": {},
   "outputs": [],
   "source": [
    "X_train,X_test,y_train,y_test = train_test_split(x,y,test_size=0.3)\n",
    "model=tree.DecisionTreeClassifier(max_depth=3)"
   ]
  },
  {
   "cell_type": "code",
   "execution_count": 33,
   "metadata": {},
   "outputs": [
    {
     "data": {
      "text/html": [
       "<div>\n",
       "<style scoped>\n",
       "    .dataframe tbody tr th:only-of-type {\n",
       "        vertical-align: middle;\n",
       "    }\n",
       "\n",
       "    .dataframe tbody tr th {\n",
       "        vertical-align: top;\n",
       "    }\n",
       "\n",
       "    .dataframe thead th {\n",
       "        text-align: right;\n",
       "    }\n",
       "</style>\n",
       "<table border=\"1\" class=\"dataframe\">\n",
       "  <thead>\n",
       "    <tr style=\"text-align: right;\">\n",
       "      <th></th>\n",
       "      <th>SepalLengthCm</th>\n",
       "      <th>SepalWidthCm</th>\n",
       "      <th>PetalLengthCm</th>\n",
       "      <th>PetalWidthCm</th>\n",
       "      <th>Iris-setosa</th>\n",
       "      <th>Iris-versicolor</th>\n",
       "      <th>Iris-virginica</th>\n",
       "    </tr>\n",
       "  </thead>\n",
       "  <tbody>\n",
       "    <tr>\n",
       "      <th>0</th>\n",
       "      <td>5.1</td>\n",
       "      <td>3.5</td>\n",
       "      <td>1.4</td>\n",
       "      <td>0.2</td>\n",
       "      <td>1</td>\n",
       "      <td>0</td>\n",
       "      <td>0</td>\n",
       "    </tr>\n",
       "    <tr>\n",
       "      <th>1</th>\n",
       "      <td>4.9</td>\n",
       "      <td>3.0</td>\n",
       "      <td>1.4</td>\n",
       "      <td>0.2</td>\n",
       "      <td>1</td>\n",
       "      <td>0</td>\n",
       "      <td>0</td>\n",
       "    </tr>\n",
       "    <tr>\n",
       "      <th>2</th>\n",
       "      <td>4.7</td>\n",
       "      <td>3.2</td>\n",
       "      <td>1.3</td>\n",
       "      <td>0.2</td>\n",
       "      <td>1</td>\n",
       "      <td>0</td>\n",
       "      <td>0</td>\n",
       "    </tr>\n",
       "    <tr>\n",
       "      <th>3</th>\n",
       "      <td>4.6</td>\n",
       "      <td>3.1</td>\n",
       "      <td>1.5</td>\n",
       "      <td>0.2</td>\n",
       "      <td>1</td>\n",
       "      <td>0</td>\n",
       "      <td>0</td>\n",
       "    </tr>\n",
       "    <tr>\n",
       "      <th>4</th>\n",
       "      <td>5.0</td>\n",
       "      <td>3.6</td>\n",
       "      <td>1.4</td>\n",
       "      <td>0.2</td>\n",
       "      <td>1</td>\n",
       "      <td>0</td>\n",
       "      <td>0</td>\n",
       "    </tr>\n",
       "  </tbody>\n",
       "</table>\n",
       "</div>"
      ],
      "text/plain": [
       "   SepalLengthCm  SepalWidthCm  PetalLengthCm  PetalWidthCm  Iris-setosa  \\\n",
       "0            5.1           3.5            1.4           0.2            1   \n",
       "1            4.9           3.0            1.4           0.2            1   \n",
       "2            4.7           3.2            1.3           0.2            1   \n",
       "3            4.6           3.1            1.5           0.2            1   \n",
       "4            5.0           3.6            1.4           0.2            1   \n",
       "\n",
       "   Iris-versicolor  Iris-virginica  \n",
       "0                0               0  \n",
       "1                0               0  \n",
       "2                0               0  \n",
       "3                0               0  \n",
       "4                0               0  "
      ]
     },
     "execution_count": 33,
     "metadata": {},
     "output_type": "execute_result"
    }
   ],
   "source": [
    "df.drop('Species',axis=1,inplace=True)\n",
    "df.head(5)"
   ]
  },
  {
   "cell_type": "code",
   "execution_count": 34,
   "metadata": {},
   "outputs": [
    {
     "data": {
      "text/plain": [
       "DecisionTreeClassifier(max_depth=3)"
      ]
     },
     "execution_count": 34,
     "metadata": {},
     "output_type": "execute_result"
    }
   ],
   "source": [
    "model.fit(X_train,y_train)"
   ]
  },
  {
   "cell_type": "code",
   "execution_count": 25,
   "metadata": {},
   "outputs": [
    {
     "name": "stdout",
     "output_type": "stream",
     "text": [
      "Collecting graphviz\n",
      "  Downloading graphviz-0.15-py2.py3-none-any.whl (18 kB)\n",
      "Installing collected packages: graphviz\n",
      "Successfully installed graphviz-0.15\n",
      "Note: you may need to restart the kernel to use updated packages.\n"
     ]
    }
   ],
   "source": [
    " pip install graphviz"
   ]
  },
  {
   "cell_type": "code",
   "execution_count": 41,
   "metadata": {},
   "outputs": [
    {
     "data": {
      "image/svg+xml": [
       "<?xml version=\"1.0\" encoding=\"UTF-8\" standalone=\"no\"?>\n",
       "<!DOCTYPE svg PUBLIC \"-//W3C//DTD SVG 1.1//EN\"\n",
       " \"http://www.w3.org/Graphics/SVG/1.1/DTD/svg11.dtd\">\n",
       "<!-- Generated by graphviz version 2.43.0 (0)\n",
       " -->\n",
       "<!-- Title: Tree Pages: 1 -->\n",
       "<svg width=\"444pt\" height=\"433pt\"\n",
       " viewBox=\"0.00 0.00 443.50 433.00\" xmlns=\"http://www.w3.org/2000/svg\" xmlns:xlink=\"http://www.w3.org/1999/xlink\">\n",
       "<g id=\"graph0\" class=\"graph\" transform=\"scale(1 1) rotate(0) translate(4 429)\">\n",
       "<title>Tree</title>\n",
       "<polygon fill=\"white\" stroke=\"transparent\" points=\"-4,4 -4,-429 439.5,-429 439.5,4 -4,4\"/>\n",
       "<!-- 0 -->\n",
       "<g id=\"node1\" class=\"node\">\n",
       "<title>0</title>\n",
       "<path fill=\"#ebfcf3\" stroke=\"black\" d=\"M249,-425C249,-425 107,-425 107,-425 101,-425 95,-419 95,-413 95,-413 95,-354 95,-354 95,-348 101,-342 107,-342 107,-342 249,-342 249,-342 255,-342 261,-348 261,-354 261,-354 261,-413 261,-413 261,-419 255,-425 249,-425\"/>\n",
       "<text text-anchor=\"start\" x=\"107\" y=\"-409.8\" font-family=\"Helvetica,sans-Serif\" font-size=\"14.00\">PetalWidthCm ≤ 0.8</text>\n",
       "<text text-anchor=\"start\" x=\"134\" y=\"-394.8\" font-family=\"Helvetica,sans-Serif\" font-size=\"14.00\">gini = 0.661</text>\n",
       "<text text-anchor=\"start\" x=\"125\" y=\"-379.8\" font-family=\"Helvetica,sans-Serif\" font-size=\"14.00\">samples = 105</text>\n",
       "<text text-anchor=\"start\" x=\"107\" y=\"-364.8\" font-family=\"Helvetica,sans-Serif\" font-size=\"14.00\">value = [34, 41, 30]</text>\n",
       "<text text-anchor=\"start\" x=\"103\" y=\"-349.8\" font-family=\"Helvetica,sans-Serif\" font-size=\"14.00\">class = Iris&#45;versicolor</text>\n",
       "</g>\n",
       "<!-- 1 -->\n",
       "<g id=\"node2\" class=\"node\">\n",
       "<title>1</title>\n",
       "<path fill=\"#e58139\" stroke=\"black\" d=\"M151,-298.5C151,-298.5 31,-298.5 31,-298.5 25,-298.5 19,-292.5 19,-286.5 19,-286.5 19,-242.5 19,-242.5 19,-236.5 25,-230.5 31,-230.5 31,-230.5 151,-230.5 151,-230.5 157,-230.5 163,-236.5 163,-242.5 163,-242.5 163,-286.5 163,-286.5 163,-292.5 157,-298.5 151,-298.5\"/>\n",
       "<text text-anchor=\"start\" x=\"56\" y=\"-283.3\" font-family=\"Helvetica,sans-Serif\" font-size=\"14.00\">gini = 0.0</text>\n",
       "<text text-anchor=\"start\" x=\"42.5\" y=\"-268.3\" font-family=\"Helvetica,sans-Serif\" font-size=\"14.00\">samples = 34</text>\n",
       "<text text-anchor=\"start\" x=\"29\" y=\"-253.3\" font-family=\"Helvetica,sans-Serif\" font-size=\"14.00\">value = [34, 0, 0]</text>\n",
       "<text text-anchor=\"start\" x=\"27\" y=\"-238.3\" font-family=\"Helvetica,sans-Serif\" font-size=\"14.00\">class = Iris&#45;setosa</text>\n",
       "</g>\n",
       "<!-- 0&#45;&gt;1 -->\n",
       "<g id=\"edge1\" class=\"edge\">\n",
       "<title>0&#45;&gt;1</title>\n",
       "<path fill=\"none\" stroke=\"black\" d=\"M147.82,-341.91C139.36,-330.54 130.17,-318.18 121.69,-306.77\"/>\n",
       "<polygon fill=\"black\" stroke=\"black\" points=\"124.44,-304.6 115.66,-298.67 118.82,-308.78 124.44,-304.6\"/>\n",
       "<text text-anchor=\"middle\" x=\"112.03\" y=\"-319.7\" font-family=\"Helvetica,sans-Serif\" font-size=\"14.00\">True</text>\n",
       "</g>\n",
       "<!-- 2 -->\n",
       "<g id=\"node3\" class=\"node\">\n",
       "<title>2</title>\n",
       "<path fill=\"#caf8dd\" stroke=\"black\" d=\"M336.5,-306C336.5,-306 193.5,-306 193.5,-306 187.5,-306 181.5,-300 181.5,-294 181.5,-294 181.5,-235 181.5,-235 181.5,-229 187.5,-223 193.5,-223 193.5,-223 336.5,-223 336.5,-223 342.5,-223 348.5,-229 348.5,-235 348.5,-235 348.5,-294 348.5,-294 348.5,-300 342.5,-306 336.5,-306\"/>\n",
       "<text text-anchor=\"start\" x=\"189.5\" y=\"-290.8\" font-family=\"Helvetica,sans-Serif\" font-size=\"14.00\">PetalWidthCm ≤ 1.75</text>\n",
       "<text text-anchor=\"start\" x=\"221\" y=\"-275.8\" font-family=\"Helvetica,sans-Serif\" font-size=\"14.00\">gini = 0.488</text>\n",
       "<text text-anchor=\"start\" x=\"216.5\" y=\"-260.8\" font-family=\"Helvetica,sans-Serif\" font-size=\"14.00\">samples = 71</text>\n",
       "<text text-anchor=\"start\" x=\"198.5\" y=\"-245.8\" font-family=\"Helvetica,sans-Serif\" font-size=\"14.00\">value = [0, 41, 30]</text>\n",
       "<text text-anchor=\"start\" x=\"190\" y=\"-230.8\" font-family=\"Helvetica,sans-Serif\" font-size=\"14.00\">class = Iris&#45;versicolor</text>\n",
       "</g>\n",
       "<!-- 0&#45;&gt;2 -->\n",
       "<g id=\"edge2\" class=\"edge\">\n",
       "<title>0&#45;&gt;2</title>\n",
       "<path fill=\"none\" stroke=\"black\" d=\"M208.18,-341.91C214.86,-332.92 222.01,-323.32 228.9,-314.05\"/>\n",
       "<polygon fill=\"black\" stroke=\"black\" points=\"231.71,-316.13 234.87,-306.02 226.09,-311.96 231.71,-316.13\"/>\n",
       "<text text-anchor=\"middle\" x=\"238.51\" y=\"-327.05\" font-family=\"Helvetica,sans-Serif\" font-size=\"14.00\">False</text>\n",
       "</g>\n",
       "<!-- 3 -->\n",
       "<g id=\"node4\" class=\"node\">\n",
       "<title>3</title>\n",
       "<path fill=\"#47e78a\" stroke=\"black\" d=\"M248,-187C248,-187 98,-187 98,-187 92,-187 86,-181 86,-175 86,-175 86,-116 86,-116 86,-110 92,-104 98,-104 98,-104 248,-104 248,-104 254,-104 260,-110 260,-116 260,-116 260,-175 260,-175 260,-181 254,-187 248,-187\"/>\n",
       "<text text-anchor=\"start\" x=\"94\" y=\"-171.8\" font-family=\"Helvetica,sans-Serif\" font-size=\"14.00\">PetalLengthCm ≤ 5.05</text>\n",
       "<text text-anchor=\"start\" x=\"129\" y=\"-156.8\" font-family=\"Helvetica,sans-Serif\" font-size=\"14.00\">gini = 0.127</text>\n",
       "<text text-anchor=\"start\" x=\"124.5\" y=\"-141.8\" font-family=\"Helvetica,sans-Serif\" font-size=\"14.00\">samples = 44</text>\n",
       "<text text-anchor=\"start\" x=\"111\" y=\"-126.8\" font-family=\"Helvetica,sans-Serif\" font-size=\"14.00\">value = [0, 41, 3]</text>\n",
       "<text text-anchor=\"start\" x=\"98\" y=\"-111.8\" font-family=\"Helvetica,sans-Serif\" font-size=\"14.00\">class = Iris&#45;versicolor</text>\n",
       "</g>\n",
       "<!-- 2&#45;&gt;3 -->\n",
       "<g id=\"edge3\" class=\"edge\">\n",
       "<title>2&#45;&gt;3</title>\n",
       "<path fill=\"none\" stroke=\"black\" d=\"M233.08,-222.91C226.02,-213.92 218.46,-204.32 211.18,-195.05\"/>\n",
       "<polygon fill=\"black\" stroke=\"black\" points=\"213.8,-192.72 204.86,-187.02 208.29,-197.05 213.8,-192.72\"/>\n",
       "</g>\n",
       "<!-- 6 -->\n",
       "<g id=\"node7\" class=\"node\">\n",
       "<title>6</title>\n",
       "<path fill=\"#8139e5\" stroke=\"black\" d=\"M423.5,-179.5C423.5,-179.5 290.5,-179.5 290.5,-179.5 284.5,-179.5 278.5,-173.5 278.5,-167.5 278.5,-167.5 278.5,-123.5 278.5,-123.5 278.5,-117.5 284.5,-111.5 290.5,-111.5 290.5,-111.5 423.5,-111.5 423.5,-111.5 429.5,-111.5 435.5,-117.5 435.5,-123.5 435.5,-123.5 435.5,-167.5 435.5,-167.5 435.5,-173.5 429.5,-179.5 423.5,-179.5\"/>\n",
       "<text text-anchor=\"start\" x=\"322\" y=\"-164.3\" font-family=\"Helvetica,sans-Serif\" font-size=\"14.00\">gini = 0.0</text>\n",
       "<text text-anchor=\"start\" x=\"308.5\" y=\"-149.3\" font-family=\"Helvetica,sans-Serif\" font-size=\"14.00\">samples = 27</text>\n",
       "<text text-anchor=\"start\" x=\"295\" y=\"-134.3\" font-family=\"Helvetica,sans-Serif\" font-size=\"14.00\">value = [0, 0, 27]</text>\n",
       "<text text-anchor=\"start\" x=\"286.5\" y=\"-119.3\" font-family=\"Helvetica,sans-Serif\" font-size=\"14.00\">class = Iris&#45;virginica</text>\n",
       "</g>\n",
       "<!-- 2&#45;&gt;6 -->\n",
       "<g id=\"edge6\" class=\"edge\">\n",
       "<title>2&#45;&gt;6</title>\n",
       "<path fill=\"none\" stroke=\"black\" d=\"M296.92,-222.91C305.86,-211.54 315.58,-199.18 324.55,-187.77\"/>\n",
       "<polygon fill=\"black\" stroke=\"black\" points=\"327.49,-189.69 330.92,-179.67 321.99,-185.36 327.49,-189.69\"/>\n",
       "</g>\n",
       "<!-- 4 -->\n",
       "<g id=\"node5\" class=\"node\">\n",
       "<title>4</title>\n",
       "<path fill=\"#3ee684\" stroke=\"black\" d=\"M154,-68C154,-68 12,-68 12,-68 6,-68 0,-62 0,-56 0,-56 0,-12 0,-12 0,-6 6,0 12,0 12,0 154,0 154,0 160,0 166,-6 166,-12 166,-12 166,-56 166,-56 166,-62 160,-68 154,-68\"/>\n",
       "<text text-anchor=\"start\" x=\"39\" y=\"-52.8\" font-family=\"Helvetica,sans-Serif\" font-size=\"14.00\">gini = 0.046</text>\n",
       "<text text-anchor=\"start\" x=\"34.5\" y=\"-37.8\" font-family=\"Helvetica,sans-Serif\" font-size=\"14.00\">samples = 42</text>\n",
       "<text text-anchor=\"start\" x=\"21\" y=\"-22.8\" font-family=\"Helvetica,sans-Serif\" font-size=\"14.00\">value = [0, 41, 1]</text>\n",
       "<text text-anchor=\"start\" x=\"8\" y=\"-7.8\" font-family=\"Helvetica,sans-Serif\" font-size=\"14.00\">class = Iris&#45;versicolor</text>\n",
       "</g>\n",
       "<!-- 3&#45;&gt;4 -->\n",
       "<g id=\"edge4\" class=\"edge\">\n",
       "<title>3&#45;&gt;4</title>\n",
       "<path fill=\"none\" stroke=\"black\" d=\"M139.49,-103.73C132.07,-94.7 124.2,-85.12 116.77,-76.08\"/>\n",
       "<polygon fill=\"black\" stroke=\"black\" points=\"119.42,-73.8 110.37,-68.3 114.02,-78.25 119.42,-73.8\"/>\n",
       "</g>\n",
       "<!-- 5 -->\n",
       "<g id=\"node6\" class=\"node\">\n",
       "<title>5</title>\n",
       "<path fill=\"#8139e5\" stroke=\"black\" d=\"M329.5,-68C329.5,-68 196.5,-68 196.5,-68 190.5,-68 184.5,-62 184.5,-56 184.5,-56 184.5,-12 184.5,-12 184.5,-6 190.5,0 196.5,0 196.5,0 329.5,0 329.5,0 335.5,0 341.5,-6 341.5,-12 341.5,-12 341.5,-56 341.5,-56 341.5,-62 335.5,-68 329.5,-68\"/>\n",
       "<text text-anchor=\"start\" x=\"228\" y=\"-52.8\" font-family=\"Helvetica,sans-Serif\" font-size=\"14.00\">gini = 0.0</text>\n",
       "<text text-anchor=\"start\" x=\"219\" y=\"-37.8\" font-family=\"Helvetica,sans-Serif\" font-size=\"14.00\">samples = 2</text>\n",
       "<text text-anchor=\"start\" x=\"205.5\" y=\"-22.8\" font-family=\"Helvetica,sans-Serif\" font-size=\"14.00\">value = [0, 0, 2]</text>\n",
       "<text text-anchor=\"start\" x=\"192.5\" y=\"-7.8\" font-family=\"Helvetica,sans-Serif\" font-size=\"14.00\">class = Iris&#45;virginica</text>\n",
       "</g>\n",
       "<!-- 3&#45;&gt;5 -->\n",
       "<g id=\"edge5\" class=\"edge\">\n",
       "<title>3&#45;&gt;5</title>\n",
       "<path fill=\"none\" stroke=\"black\" d=\"M206.51,-103.73C213.93,-94.7 221.8,-85.12 229.23,-76.08\"/>\n",
       "<polygon fill=\"black\" stroke=\"black\" points=\"231.98,-78.25 235.63,-68.3 226.58,-73.8 231.98,-78.25\"/>\n",
       "</g>\n",
       "</g>\n",
       "</svg>\n"
      ],
      "text/plain": [
       "<graphviz.files.Source at 0x7f0f98c13820>"
      ]
     },
     "execution_count": 41,
     "metadata": {},
     "output_type": "execute_result"
    }
   ],
   "source": [
    "import graphviz \n",
    "dot_data = tree.export_graphviz(model, out_file=None,\n",
    "                               feature_names=['SepalLengthCm','SepalWidthCm','PetalLengthCm','PetalWidthCm'],\n",
    "                               class_names=['Iris-setosa','Iris-versicolor','Iris-virginica'],filled=True,\n",
    "                                rounded=True,  \n",
    "                              special_characters=True) \n",
    "graph = graphviz.Source(dot_data)\n",
    "graph.render(\"Gini\")\n",
    "graph"
   ]
  },
  {
   "cell_type": "code",
   "execution_count": 36,
   "metadata": {},
   "outputs": [
    {
     "data": {
      "text/plain": [
       "0.9333333333333333"
      ]
     },
     "execution_count": 36,
     "metadata": {},
     "output_type": "execute_result"
    }
   ],
   "source": [
    "model.score(X_test,y_test)"
   ]
  },
  {
   "cell_type": "code",
   "execution_count": null,
   "metadata": {},
   "outputs": [],
   "source": []
  },
  {
   "cell_type": "code",
   "execution_count": null,
   "metadata": {},
   "outputs": [],
   "source": []
  }
 ],
 "metadata": {
  "kernelspec": {
   "display_name": "Python 3",
   "language": "python",
   "name": "python3"
  },
  "language_info": {
   "codemirror_mode": {
    "name": "ipython",
    "version": 3
   },
   "file_extension": ".py",
   "mimetype": "text/x-python",
   "name": "python",
   "nbconvert_exporter": "python",
   "pygments_lexer": "ipython3",
   "version": "3.8.3"
  }
 },
 "nbformat": 4,
 "nbformat_minor": 4
}
